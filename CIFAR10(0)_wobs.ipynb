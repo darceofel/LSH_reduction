{
 "cells": [
  {
   "cell_type": "code",
   "execution_count": 6,
   "id": "9ed7317e",
   "metadata": {},
   "outputs": [],
   "source": [
    "import torchvision\n",
    "import torchvision.transforms as transforms\n",
    "from LSH_reduction import * \n",
    "import matplotlib.pyplot as plt\n",
    "import re\n",
    "\n",
    "import matplotlib.pyplot as plt\n",
    "import time\n",
    "import torch\n",
    "import torch.nn as nn\n",
    "import torch.nn.functional as F"
   ]
  },
  {
   "cell_type": "markdown",
   "id": "05a66821",
   "metadata": {},
   "source": [
    "### Model definition"
   ]
  },
  {
   "cell_type": "code",
   "execution_count": 2,
   "id": "336fd666",
   "metadata": {},
   "outputs": [],
   "source": [
    "## In order to train in cifar100, we need a more specific model than the one defined on resnet18_model.py\n",
    "class BasicBlock(nn.Module):\n",
    "    expansion = 1\n",
    "\n",
    "    def __init__(self, in_planes, planes, stride=1):\n",
    "        super(BasicBlock, self).__init__()\n",
    "        self.conv1 = nn.Conv2d(\n",
    "            in_planes, planes, kernel_size=3, stride=stride, padding=1, bias=False)\n",
    "        self.bn1 = nn.BatchNorm2d(planes)\n",
    "        self.conv2 = nn.Conv2d(planes, planes, kernel_size=3,\n",
    "                               stride=1, padding=1, bias=False)\n",
    "        self.bn2 = nn.BatchNorm2d(planes)\n",
    "\n",
    "        self.shortcut = nn.Sequential()\n",
    "        if stride != 1 or in_planes != self.expansion*planes:\n",
    "            self.shortcut = nn.Sequential(\n",
    "                nn.Conv2d(in_planes, self.expansion*planes,\n",
    "                          kernel_size=1, stride=stride, bias=False),\n",
    "                nn.BatchNorm2d(self.expansion*planes)\n",
    "            )\n",
    "\n",
    "    def forward(self, x):\n",
    "        out = F.relu(self.bn1(self.conv1(x)))\n",
    "        out = self.bn2(self.conv2(out))\n",
    "        out += self.shortcut(x)\n",
    "        out = F.relu(out)\n",
    "        return out\n",
    "\n",
    "\n",
    "class Bottleneck(nn.Module):\n",
    "    expansion = 4\n",
    "\n",
    "    def __init__(self, in_planes, planes, stride=1):\n",
    "        super(Bottleneck, self).__init__()\n",
    "        self.conv1 = nn.Conv2d(in_planes, planes, kernel_size=1, bias=False)\n",
    "        self.bn1 = nn.BatchNorm2d(planes)\n",
    "        self.conv2 = nn.Conv2d(planes, planes, kernel_size=3,\n",
    "                               stride=stride, padding=1, bias=False)\n",
    "        self.bn2 = nn.BatchNorm2d(planes)\n",
    "        self.conv3 = nn.Conv2d(planes, self.expansion *\n",
    "                               planes, kernel_size=1, bias=False)\n",
    "        self.bn3 = nn.BatchNorm2d(self.expansion*planes)\n",
    "\n",
    "        self.shortcut = nn.Sequential()\n",
    "        if stride != 1 or in_planes != self.expansion*planes:\n",
    "            self.shortcut = nn.Sequential(\n",
    "                nn.Conv2d(in_planes, self.expansion*planes,\n",
    "                          kernel_size=1, stride=stride, bias=False),\n",
    "                nn.BatchNorm2d(self.expansion*planes)\n",
    "            )\n",
    "\n",
    "    def forward(self, x):\n",
    "        out = F.relu(self.bn1(self.conv1(x)))\n",
    "        out = F.relu(self.bn2(self.conv2(out)))\n",
    "        out = self.bn3(self.conv3(out))\n",
    "        out += self.shortcut(x)\n",
    "        out = F.relu(out)\n",
    "        return out\n",
    "\n",
    "class ResNet18(nn.Module):\n",
    "    def __init__(self, block=BasicBlock, num_classes=10):\n",
    "        super(ResNet18, self).__init__()\n",
    "\n",
    "        # ResNet18_hybrid definition\n",
    "        num_blocks = [2, 2, 2, 2]\n",
    "        self.in_planes = 64\n",
    "        self.resnet18 = nn.Sequential(\n",
    "                nn.Conv2d(3, 64, kernel_size=3, stride=1, padding=1, bias=False),\n",
    "                nn.BatchNorm2d(64),\n",
    "                nn.ReLU(),\n",
    "                self._make_layer(block, 64, num_blocks[0], stride=1),\n",
    "                self._make_layer(block, 128, num_blocks[1], stride=2),\n",
    "                self._make_layer(block, 256, num_blocks[2], stride=2),\n",
    "                self._make_layer(block, 512, num_blocks[3], stride=2),\n",
    "                nn.AvgPool2d(4),\n",
    "                nn.Flatten(1),\n",
    "                nn.Linear(512*block.expansion, num_classes)\n",
    "            )\n",
    "\n",
    "    def _make_layer(self, block, planes, num_blocks, stride):\n",
    "        strides = [stride] + [1]*(num_blocks-1)\n",
    "        layers = []\n",
    "        for stride in strides:\n",
    "            layers.append(block(self.in_planes, planes, stride))\n",
    "            self.in_planes = planes * block.expansion\n",
    "        return nn.Sequential(*layers)\n",
    "\n",
    "    def forward(self, x):\n",
    "        out = self.resnet18(x)\n",
    "        return out"
   ]
  },
  {
   "cell_type": "markdown",
   "id": "4cd8223e",
   "metadata": {},
   "source": [
    "### Training and testing functions"
   ]
  },
  {
   "cell_type": "code",
   "execution_count": 4,
   "id": "f00bb60d",
   "metadata": {},
   "outputs": [],
   "source": [
    "# Training module\n",
    "def train(epoch, net, criterion, optimizer, trainloader, device):\n",
    "#     print(f'\\nEpoch: {epoch}')\n",
    "    net.train()\n",
    "    train_loss = 0\n",
    "    correct = 0\n",
    "    total = 0\n",
    "    for batch_idx, (inputs, targets) in enumerate(trainloader):\n",
    "        inputs, targets = inputs.to(device), targets.to(device)\n",
    "        optimizer.zero_grad()\n",
    "        outputs = net(inputs)\n",
    "        loss = criterion(outputs, targets)\n",
    "        loss.backward()\n",
    "        optimizer.step()\n",
    "\n",
    "        train_loss += loss.item()\n",
    "        _, predicted = outputs.max(1)\n",
    "        total += targets.size(0)\n",
    "        correct += predicted.eq(targets).sum().item()\n",
    "    \n",
    "#     print(batch_idx, len(trainloader),\n",
    "#                  'Loss: %.3f | Acc: %.3f%% (%d/%d)'\n",
    "#                  % (train_loss / (batch_idx + 1), 100. * correct / total, correct, total))\n",
    "    \n",
    "    return 100. * correct / total\n",
    "    \n",
    "# Testing module\n",
    "def test(epoch, net, criterion, testloader, device):\n",
    "    global best_acc\n",
    "    net.eval()\n",
    "    test_loss = 0\n",
    "    correct = 0\n",
    "    total = 0\n",
    "    with torch.no_grad():\n",
    "        for batch_idx, (inputs, targets) in enumerate(testloader):\n",
    "            inputs, targets = inputs.to(device), targets.to(device)\n",
    "            outputs = net(inputs)\n",
    "            loss = criterion(outputs, targets)\n",
    "            test_loss += loss.item()\n",
    "            _, predicted = outputs.max(1)\n",
    "            total += targets.size(0)\n",
    "            correct += predicted.eq(targets).sum().item()\n",
    "\n",
    "#         print(batch_idx, len(testloader),\n",
    "#                      'Loss: %.3f | Acc: %.3f%% (%d/%d)'\n",
    "#                      % (test_loss / (batch_idx + 1), 100. * correct / total, correct, total))\n",
    "        return 100. * correct / total\n",
    "\n",
    "transform_train = transforms.Compose([\n",
    "    transforms.RandomCrop(32, padding=4),\n",
    "    transforms.RandomHorizontalFlip(),\n",
    "    transforms.ToTensor(),\n",
    "    transforms.Normalize((0.4914, 0.4822, 0.4465), (0.2023, 0.1994, 0.2010)),\n",
    "])\n",
    "\n",
    "transform_test = transforms.Compose([\n",
    "    transforms.ToTensor(),\n",
    "    transforms.Normalize((0.4914, 0.4822, 0.4465), (0.2023, 0.1994, 0.2010)),\n",
    "])"
   ]
  },
  {
   "cell_type": "code",
   "execution_count": 1,
   "id": "806c496a",
   "metadata": {},
   "outputs": [],
   "source": [
    "def confusion_matrix(rp, net, testloader):\n",
    "    # prepare to count predictions for each class\n",
    "    preds = np.zeros((rp.num_labels, rp.num_labels))\n",
    "    total_pred = np.zeros(rp.num_labels)\n",
    "\n",
    "    # again no gradients needed\n",
    "    with torch.no_grad():\n",
    "        for data in testloader:\n",
    "            images, labels = data\n",
    "            outputs = net(images.cuda())\n",
    "            _, predictions = torch.max(outputs, 1)\n",
    "            # collect the correct predictions for each class\n",
    "            for label, prediction in zip(labels, predictions):\n",
    "                preds[label][prediction] += 1\n",
    "                total_pred[label.item()] += 1\n",
    "\n",
    "    # print accuracy for each class\n",
    "    return preds/total_pred[:,None]"
   ]
  },
  {
   "cell_type": "code",
   "execution_count": 5,
   "id": "27e0114d",
   "metadata": {},
   "outputs": [],
   "source": [
    "def accuracy(rp, p, shrinkage = 'LSH'):\n",
    "    global trainset_cifar100\n",
    "    global testset_cifar100\n",
    "    t0 = time.time()\n",
    "    \n",
    "    if p == 0:\n",
    "        trainset_reduced = trainset_cifar100\n",
    "    elif shrinkage == 'LSH':\n",
    "        ixs_shrinked = LSH_Shrink(rp, p)\n",
    "        trainset_reduced = torch.utils.data.Subset(trainset_cifar100, ixs_shrinked)\n",
    "        print(f'Training on {len(trainset_reduced)} data points.')\n",
    "    else:\n",
    "        full_data_size = rp.array.shape[0]\n",
    "        ixs_shrinked = np.random.randint(low = 0, high = full_data_size, size = int(full_data_size*(1-p)))\n",
    "        trainset_reduced = torch.utils.data.Subset(trainset_cifar100, ixs_shrinked)\n",
    "    \n",
    "    trainloader_cifar100 = torch.utils.data.DataLoader(\n",
    "        trainset_reduced, batch_size=128, shuffle=True, num_workers=2)\n",
    "    testloader_cifar100 = torch.utils.data.DataLoader(\n",
    "        testset_cifar100, batch_size=128, shuffle=False, num_workers=2)\n",
    "    \n",
    "    device = 'cuda:0'\n",
    "    num_epochs = 70\n",
    "    lr = 0.001\n",
    "\n",
    "    net = ResNet18(BasicBlock, num_classes=100)\n",
    "    net.to(device)\n",
    "\n",
    "    criterion = nn.CrossEntropyLoss()\n",
    "    optimizer = torch.optim.SGD(net.parameters(), lr=lr, momentum=0.9, weight_decay=5e-4)\n",
    "    scheduler = torch.optim.lr_scheduler.CosineAnnealingLR(optimizer, T_max=200)\n",
    "    \n",
    "    for epoch in range(1, num_epochs+1):\n",
    "        train_acc = train(epoch, net, criterion, optimizer, trainloader_cifar100, device=device)\n",
    "        test_acc = test(epoch, net, criterion, testloader_cifar100, device=device)\n",
    "        scheduler.step()\n",
    "    \n",
    "    return test_acc, time.time() - t0, std_accs(rp, net, testloader_cifar100)"
   ]
  },
  {
   "cell_type": "markdown",
   "id": "60d8d5e4",
   "metadata": {},
   "source": [
    "### Data download and testing"
   ]
  },
  {
   "cell_type": "code",
   "execution_count": 8,
   "id": "2c2ae949",
   "metadata": {},
   "outputs": [
    {
     "name": "stdout",
     "output_type": "stream",
     "text": [
      "Files already downloaded and verified\n",
      "Files already downloaded and verified\n",
      "Length of trainset: 50000, length of testset: 10000\n"
     ]
    }
   ],
   "source": [
    "# CIFAR10 or CIFAR100 Dataloader\n",
    "trainset = torchvision.datasets.CIFAR100(\n",
    "    root='./data', train=True, download=True, transform=transform_train)\n",
    "testset = torchvision.datasets.CIFAR100(\n",
    "    root='./data', train=False, download=True, transform=transform_test)\n",
    "\n",
    "filename = re.findall(r'[a-z]+\\-[0-1]+', trainset.filename)[0].upper()\n",
    "print(f'Length of trainset: {len(trainset)}, length of testset: {len(testset)}')"
   ]
  },
  {
   "cell_type": "code",
   "execution_count": 7,
   "id": "e439a400",
   "metadata": {},
   "outputs": [
    {
     "name": "stdout",
     "output_type": "stream",
     "text": [
      "Using: 8 bits, 10 hash tables\n"
     ]
    }
   ],
   "source": [
    "rp = Random_projection_hash(trainset)\n",
    "rp.hash_values()\n",
    "rp.estimation()"
   ]
  },
  {
   "cell_type": "code",
   "execution_count": null,
   "id": "23b357b4",
   "metadata": {},
   "outputs": [],
   "source": [
    "def get_results(rp, n_reps, max_p = 90, shrink_type = 'LSH'):\n",
    "    acc_res = []\n",
    "    time_res = []\n",
    "    std_res = []\n",
    "    \n",
    "    print(f'\\nResults for {shrink_type} shrinkage:')\n",
    "    for p in range(int((max_p + 10)/10)):\n",
    "        total_acc = 0\n",
    "        total_time = 0\n",
    "        total_conf = np.zeros((rp.num_labels, rp.num_labels))\n",
    "        \n",
    "        for _ in range(n_reps):\n",
    "            acc, tm, conf = accuracy(rp, p/10, shrink_type)\n",
    "            total_acc += acc\n",
    "            total_time += tm\n",
    "            total_conf += conf\n",
    "        \n",
    "        acc_res.append(total_acc/n_reps)\n",
    "        time_res.append(total_time/n_reps)\n",
    "        std_res.append(np.diagonal(total_conf/n_reps).std())\n",
    "        print(f'p: {10*p}% {\" \"*(p==0)} |  acc: {acc_res[-1]:.4f}  | time: {time_res[-1]:.4f}  | std: {std_res[-1]:.4f}')\n",
    "\n",
    "    return np.array(acc_res), np.array(time_res), np.array(std_res)"
   ]
  },
  {
   "cell_type": "code",
   "execution_count": 11,
   "id": "62edc575",
   "metadata": {},
   "outputs": [],
   "source": [
    "n_reps = 2 # number of times each percentage will be tested\n",
    "max_p = 90\n",
    "\n",
    "## Save values for later plotting\n",
    "acc_res_lsh, time_res_lsh, std_res_lsh = get_results(rp, n_reps, max_p, 'LSH')\n",
    "acc_res_random, time_res_random, std_res_random = get_results(rp, n_reps, max_p, 'RND')"
   ]
  },
  {
   "cell_type": "code",
   "execution_count": 15,
   "id": "60dbfe02",
   "metadata": {
    "scrolled": false
   },
   "outputs": [
    {
     "data": {
      "image/png": "[encoded data removed]",
      "text/plain": [
       "<Figure size 640x480 with 2 Axes>"
      ]
     },
     "metadata": {},
     "output_type": "display_data"
    }
   ],
   "source": [
    "fig, ax = plt.subplots(2,1, sharex = True)\n",
    "p = [10*i for i in range(5)]\n",
    "\n",
    "a = 1/2*(acc_res_random[0] + acc_res_lsh[0])\n",
    "acc_res_random[0] = a\n",
    "acc_res_lsh[0] = a\n",
    "\n",
    "ax[0].grid(alpha = 0.5)\n",
    "ax[1].grid(alpha = 0.5)\n",
    "\n",
    "ax[0].plot(p, acc_res_random, c = 'tab:orange', label = 'Random Shrinkage')\n",
    "ax[0].fill_between(p, acc_res_random - std_res_random, acc_res_random + std_res_random, color = 'tab:orange', alpha = 0.4)\n",
    "ax[0].plot(p, acc_res_lsh, c = 'tab:blue', label = 'LSH Shrinkage')\n",
    "ax[0].fill_between(p, acc_res_lsh - std_res_lsh, acc_res_lsh + std_res_lsh, color = 'tab:blue', alpha = 0.4)\n",
    "ax[0].set_ylabel('Accuracy (%)')\n",
    "\n",
    "ax[1].plot(p, time_res_random, c = 'tab:orange', label = 'Random Shrinkage')\n",
    "ax[1].plot(p, time_res_lsh, c = 'tab:blue', alpha = 0.6, label = 'LSH Shrinkage')\n",
    "ax[1].set_ylabel('Time (s)')\n",
    "\n",
    "ax[1].legend()\n",
    "ax[1].set_xlabel('Shrinkage (%)')\n",
    "_ = fig.suptitle(f'ResNet 18 on {filename}\\nwithout batch shrinking')"
   ]
  },
  {
   "cell_type": "markdown",
   "id": "c5aee61f",
   "metadata": {},
   "source": [
    "### Interpreting results"
   ]
  },
  {
   "cell_type": "code",
   "execution_count": null,
   "id": "d3318b0e",
   "metadata": {},
   "outputs": [],
   "source": [
    "plt.plot(p, (1-acc_res_lsh/acc_res_lsh[0])*100, label = 'Accuracy loss')\n",
    "plt.plot(p, (1-time_res_lsh/time_res_lsh[0])*100, label = 'Time loss')\n",
    "plt.legend()\n",
    "plt.grid()\n",
    "plt.title(f'{filename}\\nAccuracy and time loss against no shrinkage')\n",
    "plt.xlabel('Shrinkage (%)')\n",
    "_ = plt.ylabel('Loss (%)')"
   ]
  },
  {
   "cell_type": "markdown",
   "id": "3193e23b",
   "metadata": {},
   "source": [
    "### Saving results"
   ]
  },
  {
   "cell_type": "code",
   "execution_count": null,
   "id": "da1dffe0",
   "metadata": {},
   "outputs": [],
   "source": [
    "import pandas as pd\n",
    "\n",
    "df = pd.DataFrame([p, acc_res_lsh, acc_res_random, time_res_lsh, time_res_random, std_res_lsh, std_res_random]).T\n",
    "df.rename(columns = {0:'shrinkage_p', 1:'lsh_acc', 2:'random_acc', \n",
    "                     3:'lsh_time', 4:'random_time', 5:'lsh_std', 6:'random_std'}, inplace = True)\n",
    "df.set_index('shrinkage_p', inplace = True)\n",
    "\n",
    "filepath = f'Results/{filename}_wobs_results.csv'\n",
    "df.to_csv(filepath)"
   ]
  }
 ],
 "metadata": {
  "kernelspec": {
   "display_name": "Python 3 (ipykernel)",
   "language": "python",
   "name": "python3"
  },
  "language_info": {
   "codemirror_mode": {
    "name": "ipython",
    "version": 3
   },
   "file_extension": ".py",
   "mimetype": "text/x-python",
   "name": "python",
   "nbconvert_exporter": "python",
   "pygments_lexer": "ipython3",
   "version": "3.9.13"
  }
 },
 "nbformat": 4,
 "nbformat_minor": 5
}
